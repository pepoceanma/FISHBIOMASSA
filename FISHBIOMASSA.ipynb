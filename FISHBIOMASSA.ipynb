{
  "nbformat": 4,
  "nbformat_minor": 0,
  "metadata": {
    "colab": {
      "provenance": [],
      "authorship_tag": "ABX9TyP2l+KTiUuwEfM2+sVyNYn7",
      "include_colab_link": true
    },
    "kernelspec": {
      "name": "python3",
      "display_name": "Python 3"
    },
    "language_info": {
      "name": "python"
    }
  },
  "cells": [
    {
      "cell_type": "markdown",
      "metadata": {
        "id": "view-in-github",
        "colab_type": "text"
      },
      "source": [
        "<a href=\"https://colab.research.google.com/github/pepoceanma/FISHBIOMASSA/blob/main/FISHBIOMASSA.ipynb\" target=\"_parent\"><img src=\"https://colab.research.google.com/assets/colab-badge.svg\" alt=\"Open In Colab\"/></a>"
      ]
    },
    {
      "cell_type": "code",
      "source": [
        "###\n",
        "#Cálculo de Biomassa em Tanques de Peixes\n",
        "\n",
        "#Este código calcula a biomassa total em um tanque de peixes com base no volume do tanque,\n",
        "#densidade de estocagem e peso médio dos peixes.\n",
        "\n",
        "#Autor: Felipe Martins Sousa\n",
        "#Profissão: Analista de Sistemas\n",
        "#Data: 2023-11-23\n",
        "\n",
        "#Este código é distribuído sob a licença MIT. Veja o arquivo LICENSE para mais detalhes.\n",
        "\n",
        "#Este código serve como um exemplo básico e pode ser utilizado como ponto de partida para\n",
        "#desenvolver aplicações mais complexas na área de aquicultura.\n",
        "\n",
        "#**Descrição da Função:**\n",
        "\n",
        "#A função `calcular_biomassa` recebe como entrada o volume do tanque, a densidade de estocagem\n",
        "#e o peso médio dos peixes. Ela calcula o número total de peixes e multiplica pelo peso médio\n",
        "#para obter a biomassa total.\n",
        "\n",
        "##**Exemplo de Uso:**\n",
        "##\n",
        "\n",
        "def calcular_biomassa(volume_tanque, densidade_estocagem, peso_medio):\n",
        "  #Calcula a biomassa total em um tanque de peixes.\n",
        "\n",
        "#  Args:\n",
        "   # volume_tanque: Volume do tanque em metros cúbicos.\n",
        "    #densidade_estocagem: Número de peixes por metro cúbico.\n",
        "    #peso_medio: Peso médio de cada peixe em quilogramas.\n",
        "\n",
        "  #Returns:\n",
        "   # A biomassa total em quilogramas.\n",
        "\n",
        "\n",
        "  numero_peixes = volume_tanque * densidade_estocagem\n",
        "  biomassa_total = numero_peixes * peso_medio\n",
        "  return biomassa_total\n",
        "\n",
        "# Exemplo de uso:\n",
        "volume = 10  # m³\n",
        "densidade = 50  # peixes/m³\n",
        "peso = 1  # kg\n",
        "\n",
        "resultado = calcular_biomassa(volume, densidade, peso)\n",
        "print(\"A biomassa total estimada é:\", resultado, \"kg\")"
      ],
      "metadata": {
        "colab": {
          "base_uri": "https://localhost:8080/"
        },
        "id": "W113118Jxz-s",
        "outputId": "79c1afb5-038d-45b5-fd54-249d7ec3de18"
      },
      "execution_count": 5,
      "outputs": [
        {
          "output_type": "stream",
          "name": "stdout",
          "text": [
            "A biomassa total estimada é: 500 kg\n"
          ]
        }
      ]
    }
  ]
}